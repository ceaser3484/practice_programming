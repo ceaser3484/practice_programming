{
  "nbformat": 4,
  "nbformat_minor": 0,
  "metadata": {
    "colab": {
      "name": "Tokenizer with Padding.ipynb",
      "provenance": [],
      "collapsed_sections": []
    },
    "kernelspec": {
      "name": "python3",
      "display_name": "Python 3"
    }
  },
  "cells": [
    {
      "cell_type": "code",
      "metadata": {
        "id": "BZRS-phzTXeb"
      },
      "source": [
        "import tensorflow as tf\r\n",
        "from tensorflow import keras\r\n",
        "\r\n",
        "from tensorflow.keras.preprocessing.text import Tokenizer\r\n",
        "from tensorflow.keras.preprocessing.sequence import pad_sequences\r\n",
        "\r\n",
        "sentences = [\r\n",
        "            'I love my dog',\r\n",
        "            'I love my cat',\r\n",
        "            'You love my dog!',\r\n",
        "            'Do you think my dog is amazing?'\r\n",
        "]"
      ],
      "execution_count": null,
      "outputs": []
    },
    {
      "cell_type": "code",
      "metadata": {
        "id": "SZ_4qQTpTyFh"
      },
      "source": [
        "tokenizer = Tokenizer(num_words = 100, oov_token='<OOV>')\r\n",
        "tokenizer.fit_on_texts(sentences)\r\n",
        "word_index = tokenizer.word_index\r\n",
        "\r\n",
        "sequences = tokenizer.texts_to_sequences(sentences)"
      ],
      "execution_count": null,
      "outputs": []
    },
    {
      "cell_type": "code",
      "metadata": {
        "colab": {
          "base_uri": "https://localhost:8080/"
        },
        "id": "hqxZ39ShUisa",
        "outputId": "989d1e22-5e88-4a28-a93a-53321869746d"
      },
      "source": [
        "padded = pad_sequences(sequences, maxlen = 5)\r\n",
        "print('\\nWord index = ', word_index)\r\n",
        "print('\\nSequences = ', sequences)\r\n",
        "print('\\nPadded Sequences: ')\r\n",
        "print(padded)"
      ],
      "execution_count": null,
      "outputs": [
        {
          "output_type": "stream",
          "text": [
            "\n",
            "Word index =  {'<OOV>': 1, 'my': 2, 'love': 3, 'dog': 4, 'i': 5, 'you': 6, 'cat': 7, 'do': 8, 'think': 9, 'is': 10, 'amazing': 11}\n",
            "\n",
            "Sequences =  [[5, 3, 2, 4], [5, 3, 2, 7], [6, 3, 2, 4], [8, 6, 9, 2, 4, 10, 11]]\n",
            "\n",
            "Padded Sequences: \n",
            "[[ 0  5  3  2  4]\n",
            " [ 0  5  3  2  7]\n",
            " [ 0  6  3  2  4]\n",
            " [ 9  2  4 10 11]]\n"
          ],
          "name": "stdout"
        }
      ]
    },
    {
      "cell_type": "code",
      "metadata": {
        "colab": {
          "base_uri": "https://localhost:8080/"
        },
        "id": "UBfUVaa5U9dK",
        "outputId": "bbbdb160-6f59-4175-b32c-45257c9e5c77"
      },
      "source": [
        "#Try with words that the tokenizer wasn't fit to\r\n",
        "test_data = [\r\n",
        "             'I really love my dog',\r\n",
        "             'my dog loves my manatee'\r\n",
        "]\r\n",
        "\r\n",
        "test_seq = tokenizer.texts_to_sequences(test_data)\r\n",
        "print('\\nTest Sequence = ', test_seq)\r\n",
        "\r\n",
        "padded = pad_sequences(test_seq, maxlen=10)\r\n",
        "print('\\nPadded Test Sequence: ')\r\n",
        "print(padded)"
      ],
      "execution_count": null,
      "outputs": [
        {
          "output_type": "stream",
          "text": [
            "\n",
            "Test Sequence =  [[5, 1, 3, 2, 4], [2, 4, 1, 2, 1]]\n",
            "\n",
            "Padded Test Sequence: \n",
            "[[0 0 0 0 0 5 1 3 2 4]\n",
            " [0 0 0 0 0 2 4 1 2 1]]\n"
          ],
          "name": "stdout"
        }
      ]
    }
  ]
}